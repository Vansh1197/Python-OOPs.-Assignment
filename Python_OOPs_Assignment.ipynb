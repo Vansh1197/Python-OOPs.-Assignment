{
  "nbformat": 4,
  "nbformat_minor": 0,
  "metadata": {
    "colab": {
      "provenance": []
    },
    "kernelspec": {
      "name": "python3",
      "display_name": "Python 3"
    },
    "language_info": {
      "name": "python"
    }
  },
  "cells": [
    {
      "cell_type": "markdown",
      "source": [
        "Theory Questions"
      ],
      "metadata": {
        "id": "EvoMhhSjs3zA"
      }
    },
    {
      "cell_type": "markdown",
      "source": [
        "1.What is Object-Oriented Programming (OOP)\n",
        " >> Object-Oriented Programming (OOP) is a programming paradigm based on the concept of objects, which contain both data (attributes) and functions (methods) that operate on that data."
      ],
      "metadata": {
        "id": "NEFP78oVoGXW"
      }
    },
    {
      "cell_type": "markdown",
      "source": [
        "2.What is a class in OOP?\n",
        " >> A class in Object-Oriented Programming (OOP) is a blueprint or template for creating objects that defines a set of attributes and methods that the created objects will have."
      ],
      "metadata": {
        "id": "V8sQeMUhoGQz"
      }
    },
    {
      "cell_type": "markdown",
      "source": [
        "3.What is an object in OOP?\n",
        " >> An object in Object-Oriented Programming (OOP) is an instance of a class that contains data and behavior defined by the class.\n"
      ],
      "metadata": {
        "id": "-KZJo2p3oGJx"
      }
    },
    {
      "cell_type": "markdown",
      "source": [
        "4.What is the difference between abstraction and encapsulation?\n",
        " >> Abstraction is the concept of hiding complex implementation details and showing only the essential features of an object.\n",
        "Encapsulation is the practice of bundling data and methods that operate on that data within a single unit and restricting direct access to some of the object's components."
      ],
      "metadata": {
        "id": "j_nf7fBxoGDB"
      }
    },
    {
      "cell_type": "markdown",
      "source": [
        " 5.What are dunder methods in Python?\n",
        " >> Dunder methods in Python are special methods with double underscores at the beginning and end of their names (e.g., __init__, __str__) that allow customization of class behavior and enable operator overloading and built-in function support."
      ],
      "metadata": {
        "id": "xjqMFElQoF7e"
      }
    },
    {
      "cell_type": "markdown",
      "source": [
        "6.Explain the concept of inheritance in OOPH\n",
        " >> Inheritance in Object-Oriented Programming (OOP) is a mechanism that allows a class (called the child or subclass) to inherit properties and behaviors (attributes and methods) from another class (called the parent or superclass), promoting code reusability and hierarchical relationships."
      ],
      "metadata": {
        "id": "x-n4HAlUoFzq"
      }
    },
    {
      "cell_type": "markdown",
      "source": [
        "7.What is polymorphism in OOP?\n",
        " >> Polymorphism in Object-Oriented Programming (OOP) is the ability of different classes to respond to the same method or function call in different ways, allowing objects of different types to be treated through a common interface."
      ],
      "metadata": {
        "id": "88iKQQVRoFri"
      }
    },
    {
      "cell_type": "markdown",
      "source": [
        "8.How is encapsulation achieved in Python+\n",
        " >> Encapsulation in Python is the concept of restricting direct access to an object’s data and methods by bundling them within a class and using access modifiers to control visibility."
      ],
      "metadata": {
        "id": "vdiJAVRfoFj_"
      }
    },
    {
      "cell_type": "markdown",
      "source": [
        "9.What is a constructor in Python\n",
        " >> A constructor in Python is a special method named __init__ that is automatically called when a new object of a class is created, used to initialize the object's attributes."
      ],
      "metadata": {
        "id": "4C342sppoFdy"
      }
    },
    {
      "cell_type": "markdown",
      "source": [
        "10.What are class and static methods in Python?\n",
        " >> Class methods in Python are methods that are bound to the class and not the instance, and are defined using the @classmethod decorator, taking cls as the first parameter.\n",
        "\n",
        " >>Static methods in Python are methods that do not take self or cls as the first parameter and are defined using the @staticmethod decorator; they behave like regular functions but belong to the class's namespace."
      ],
      "metadata": {
        "id": "f94x5gZGoFWO"
      }
    },
    {
      "cell_type": "markdown",
      "source": [
        "11.What is method overloading in Python?\n",
        " >> Method overloading in Python is the ability to define a method that can behave differently based on the number or type of arguments passed, typically achieved using default or variable-length arguments, as Python does not support traditional method overloading."
      ],
      "metadata": {
        "id": "fic7uX8SoFO9"
      }
    },
    {
      "cell_type": "markdown",
      "source": [
        "12.What is method overriding in OOP?\n",
        " >> Method overriding in OOP is the ability of a subclass to provide a specific implementation of a method that is already defined in its superclass, allowing the subclass to modify or extend the behavior of that method."
      ],
      "metadata": {
        "id": "5pGFz3smoE_U"
      }
    },
    {
      "cell_type": "markdown",
      "source": [
        "13.What is a property decorator in Python+\n",
        " >> A property decorator in Python is a built-in decorator (@property) that allows a method to be accessed like an attribute, enabling controlled access to instance variables through getter, setter, and deleter methods."
      ],
      "metadata": {
        "id": "yCe8A3vEoEdM"
      }
    },
    {
      "cell_type": "markdown",
      "source": [
        "14.Why is polymorphism important in OOP?\n",
        " >> Polymorphism is important in OOP because it allows objects of different classes to be treated through a common interface, enabling code reusability, flexibility, and the ability to define methods that work on objects of different types.\n"
      ],
      "metadata": {
        "id": "vGjl1BSIoEYv"
      }
    },
    {
      "cell_type": "markdown",
      "source": [
        "15.What is an abstract class in Python?\n",
        " >> An abstract class in Python is a class that cannot be instantiated and is designed to be a base class, containing one or more abstract methods that must be implemented by its subclasses, typically defined using the abc module."
      ],
      "metadata": {
        "id": "4wyJOJq6oEVI"
      }
    },
    {
      "cell_type": "markdown",
      "source": [
        "16.What are the advantages of OOP?\n",
        " >> The advantages of Object-Oriented Programming (OOP) include modularity, code reusability, scalability, easier maintenance, and the ability to model real-world entities through abstraction, encapsulation, inheritance, and polymorphism."
      ],
      "metadata": {
        "id": "7Vs9OKdfoEK-"
      }
    },
    {
      "cell_type": "markdown",
      "source": [
        "17.What is the difference between a class variable and an instance variable?\n",
        " >> A class variable is a variable that is shared among all instances of a class, whereas an instance variable is unique to each object and defined within the constructor or instance methods.\n",
        "\n"
      ],
      "metadata": {
        "id": "7SBt3-O2oEAT"
      }
    },
    {
      "cell_type": "markdown",
      "source": [
        "18.What is multiple inheritance in Python?\n",
        " >> Multiple inheritance in Python is a feature that allows a class to inherit attributes and methods from more than one parent class.\n",
        "\n"
      ],
      "metadata": {
        "id": "msmRuHlvpCVS"
      }
    },
    {
      "cell_type": "markdown",
      "source": [
        "19.Explain the purpose of ‘’__str__’ and ‘__repr__’ ‘ methods in Python?\n",
        " >> The __str__ method in Python defines the human-readable string representation of an object, used by the print() function.\n",
        "\n",
        " >> The __repr__ method defines the official string representation of an object, intended for developers, and is used by the repr() function and in the interactive interpreter"
      ],
      "metadata": {
        "id": "S-uAqIRIpCxc"
      }
    },
    {
      "cell_type": "markdown",
      "source": [
        "20.What is the significance of the ‘super()’ function in Python?\n",
        " >> The super() function in Python is used to call a method from the parent class, allowing access to inherited methods and enabling proper method resolution in multiple inheritance scenarios."
      ],
      "metadata": {
        "id": "myEEsAhmpCp2"
      }
    },
    {
      "cell_type": "markdown",
      "source": [
        "21.What is the significance of the __del__ method in Python?\n",
        " >> The __del__ method in Python is a special method called a destructor that is automatically invoked when an object is about to be destroyed, used to perform cleanup operations such as releasing resources."
      ],
      "metadata": {
        "id": "QYPSu19NpCmw"
      }
    },
    {
      "cell_type": "markdown",
      "source": [
        "22.What is the difference between @staticmethod and @classmethod in Python?\n",
        " >> The @staticmethod defines a method that does not take self or cls as the first argument and cannot access or modify class or instance state, while the @classmethod defines a method that takes cls as the first argument and can access or modify the class state."
      ],
      "metadata": {
        "id": "xwUaZLltpCck"
      }
    },
    {
      "cell_type": "markdown",
      "source": [
        "23.How does polymorphism work in Python with inheritance?\n",
        " >> Polymorphism in Python with inheritance allows subclasses to provide specific implementations of methods defined in a parent class, enabling objects of different subclasses to be treated uniformly through the parent class interface.\n"
      ],
      "metadata": {
        "id": "aqAtw9z6skqg"
      }
    },
    {
      "cell_type": "markdown",
      "source": [
        "24.What is method chaining in Python OOP?\n",
        " >> Method chaining in Python OOP is a programming technique where multiple methods are called sequentially on the same object in a single line, by ensuring each method returns the object itself (self)."
      ],
      "metadata": {
        "id": "0X1dZL7asnc3"
      }
    },
    {
      "cell_type": "markdown",
      "source": [
        "25.What is the purpose of the __call__ method in Python?\n",
        " >> The __call__ method in Python is a special method that allows an instance of a class to be called as if it were a function."
      ],
      "metadata": {
        "id": "yY2Ub2g_sp2i"
      }
    },
    {
      "cell_type": "markdown",
      "source": [
        "Practical Questions\n",
        "\n",
        "\n",
        "\n"
      ],
      "metadata": {
        "id": "jjtg6ikepchW"
      }
    },
    {
      "cell_type": "markdown",
      "source": [
        "1.Create a parent class Animal with a method speak()that prints a generic message. Create a child class Dog\n",
        "that overrides the speak() method to print \"Bark!\"\n",
        "\n"
      ],
      "metadata": {
        "id": "uMANO5mtzU_6"
      }
    },
    {
      "cell_type": "code",
      "source": [
        "class Animal:\n",
        "    def speak(self):\n",
        "        print(\"The animal makes a sound.\")\n",
        "\n",
        "class Dog(Animal):\n",
        "    def speak(self):\n",
        "        print(\"Bark!\")\n",
        "\n",
        "# Example usage\n",
        "animal = Animal()\n",
        "animal.speak()\n",
        "dog = Dog()\n",
        "dog.speak()"
      ],
      "metadata": {
        "id": "v2q21N0upgLd",
        "colab": {
          "base_uri": "https://localhost:8080/"
        },
        "outputId": "4174862b-91ad-426b-8b19-d54010fabcb6"
      },
      "execution_count": 3,
      "outputs": [
        {
          "output_type": "stream",
          "name": "stdout",
          "text": [
            "The animal makes a sound.\n",
            "Bark!\n"
          ]
        }
      ]
    },
    {
      "cell_type": "markdown",
      "source": [
        " 2. Write a program to create an abstract class Shape with a method area(). Derive classes Circle and Rectangle\n",
        "from it and implement the area() method in both.\n"
      ],
      "metadata": {
        "id": "XI0EO8uXzlFW"
      }
    },
    {
      "cell_type": "code",
      "source": [
        "from abc import ABC, abstractmethod\n",
        "import math\n",
        "\n",
        "# Abstract class\n",
        "class Shape(ABC):\n",
        "    @abstractmethod\n",
        "    def area(self):\n",
        "        pass\n",
        "\n",
        "# Circle class\n",
        "class Circle(Shape):\n",
        "    def __init__(self, radius):\n",
        "        self.radius = radius\n",
        "\n",
        "    def area(self):\n",
        "        return math.pi * self.radius ** 2\n",
        "\n",
        "# Rectangle class\n",
        "class Rectangle(Shape):\n",
        "    def __init__(self, length, width):\n",
        "        self.length = length\n",
        "        self.width = width\n",
        "\n",
        "    def area(self):\n",
        "        return self.length * self.width\n",
        "\n",
        "# Example usage\n",
        "circle = Circle(5)\n",
        "print(\"Circle Area:\", circle.area())\n",
        "rectangle = Rectangle(4, 6)\n",
        "print(\"Rectangle Area:\", rectangle.area())  #\n"
      ],
      "metadata": {
        "colab": {
          "base_uri": "https://localhost:8080/"
        },
        "id": "-yeHy9JJphOW",
        "outputId": "287a82fa-555e-4f17-ca8c-e30ccc9c35f2"
      },
      "execution_count": 5,
      "outputs": [
        {
          "output_type": "stream",
          "name": "stdout",
          "text": [
            "Circle Area: 78.53981633974483\n",
            "Rectangle Area: 24\n"
          ]
        }
      ]
    },
    {
      "cell_type": "markdown",
      "source": [
        "3.Implement a multi-level inheritance scenario where a class Vehicle has an attribute type. Derive a class Car\n",
        "and further derive a class ElectricCar that adds a battery attribute."
      ],
      "metadata": {
        "id": "j1921QwD0CiQ"
      }
    },
    {
      "cell_type": "code",
      "source": [
        "# Base class\n",
        "class Vehicle:\n",
        "    def __init__(self, vehicle_type):\n",
        "        self.type = vehicle_type\n",
        "\n",
        "# Derived class from Vehicle\n",
        "class Car(Vehicle):\n",
        "    def __init__(self, vehicle_type, brand):\n",
        "        super().__init__(vehicle_type)\n",
        "        self.brand = brand\n",
        "\n",
        "# Derived class from Car\n",
        "class ElectricCar(Car):\n",
        "    def __init__(self, vehicle_type, brand, battery):\n",
        "        super().__init__(vehicle_type, brand)\n",
        "        self.battery = battery\n",
        "\n",
        "    def display_info(self):\n",
        "        print(f\"Type: {self.type}\")\n",
        "        print(f\"Brand: {self.brand}\")\n",
        "        print(f\"Battery: {self.battery} kWh\")\n",
        "\n",
        "# Example usage\n",
        "e_car = ElectricCar(\"Four Wheeler\", \"Tesla\", 75)\n",
        "e_car.display_info()\n"
      ],
      "metadata": {
        "colab": {
          "base_uri": "https://localhost:8080/"
        },
        "id": "T_l_HwaUphLf",
        "outputId": "316ad295-2404-4a96-bf76-3533b4c7044c"
      },
      "execution_count": 6,
      "outputs": [
        {
          "output_type": "stream",
          "name": "stdout",
          "text": [
            "Type: Four Wheeler\n",
            "Brand: Tesla\n",
            "Battery: 75 kWh\n"
          ]
        }
      ]
    },
    {
      "cell_type": "markdown",
      "source": [
        "4.Demonstrate polymorphism by creating a base class Bird with a method fly(). Create two derived classes\n",
        "Sparrow and Penguin that override the fly() method."
      ],
      "metadata": {
        "id": "2D2mf5ZN0d8Z"
      }
    },
    {
      "cell_type": "code",
      "source": [
        "# Base class\n",
        "class Bird:\n",
        "    def fly(self):\n",
        "        print(\"Some birds can fly.\")\n",
        "\n",
        "# Derived class Sparrow\n",
        "class Sparrow(Bird):\n",
        "    def fly(self):\n",
        "        print(\"Sparrow flies high in the sky.\")\n",
        "\n",
        "# Derived class Penguin\n",
        "class Penguin(Bird):\n",
        "    def fly(self):\n",
        "        print(\"Penguins cannot fly but they swim well.\")\n",
        "\n",
        "# Example usage (Polymorphism in action)\n",
        "def bird_flight(bird):\n",
        "    bird.fly()\n",
        "\n",
        "# Create objects\n",
        "sparrow = Sparrow()\n",
        "penguin = Penguin()\n",
        "\n",
        "# Call the same method on different objects\n",
        "bird_flight(sparrow)\n",
        "bird_flight(penguin)"
      ],
      "metadata": {
        "colab": {
          "base_uri": "https://localhost:8080/"
        },
        "id": "uoeGreEQphIo",
        "outputId": "3fd571ba-fb9e-427a-da76-6a841a6801cb"
      },
      "execution_count": 7,
      "outputs": [
        {
          "output_type": "stream",
          "name": "stdout",
          "text": [
            "Sparrow flies high in the sky.\n",
            "Penguins cannot fly but they swim well.\n"
          ]
        }
      ]
    },
    {
      "cell_type": "markdown",
      "source": [
        "5.Write a program to demonstrate encapsulation by creating a class BankAccount with private attributes\n",
        "balance and methods to deposit, withdraw, and check balance"
      ],
      "metadata": {
        "id": "Rx81hUAa03Un"
      }
    },
    {
      "cell_type": "code",
      "source": [
        "class BankAccount:\n",
        "    def __init__(self, initial_balance=0):\n",
        "        self.__balance = initial_balance  # private attribute\n",
        "\n",
        "    def deposit(self, amount):\n",
        "        if amount > 0:\n",
        "            self.__balance += amount\n",
        "            print(f\"Deposited: ₹{amount}\")\n",
        "        else:\n",
        "            print(\"Deposit amount must be positive.\")\n",
        "\n",
        "    def withdraw(self, amount):\n",
        "        if 0 < amount <= self.__balance:\n",
        "            self.__balance -= amount\n",
        "            print(f\"Withdrawn: ₹{amount}\")\n",
        "        else:\n",
        "            print(\"Invalid withdrawal amount or insufficient balance.\")\n",
        "\n",
        "    def check_balance(self):\n",
        "        print(f\"Current Balance: ₹{self.__balance}\")\n",
        "\n",
        "# Example usage\n",
        "account = BankAccount(1000)  # Create an account with ₹1000\n",
        "account.deposit(500)         # Add ₹500\n",
        "account.withdraw(300)        # Withdraw ₹300\n",
        "account.check_balance()      # Check balance\n"
      ],
      "metadata": {
        "colab": {
          "base_uri": "https://localhost:8080/"
        },
        "id": "HcVvoNIIphFx",
        "outputId": "48a40239-3417-440e-f68a-9175745c16bd"
      },
      "execution_count": 9,
      "outputs": [
        {
          "output_type": "stream",
          "name": "stdout",
          "text": [
            "Deposited: ₹500\n",
            "Withdrawn: ₹300\n",
            "Current Balance: ₹1200\n"
          ]
        }
      ]
    },
    {
      "cell_type": "markdown",
      "source": [
        "6.Demonstrate runtime polymorphism using a method play() in a base class Instrument. Derive classes Guitar\n",
        "and Piano that implement their own version of play()."
      ],
      "metadata": {
        "id": "LvnqPuul1eqi"
      }
    },
    {
      "cell_type": "code",
      "source": [
        "# Base class\n",
        "class Instrument:\n",
        "    def play(self):\n",
        "        print(\"Playing an instrument.\")\n",
        "\n",
        "# Derived class 1\n",
        "class Guitar(Instrument):\n",
        "    def play(self):\n",
        "        print(\"Strumming the guitar.\")\n",
        "\n",
        "# Derived class 2\n",
        "class Piano(Instrument):\n",
        "    def play(self):\n",
        "        print(\"Playing the piano.\")\n",
        "\n",
        "# Runtime polymorphism demonstration\n",
        "def perform_play(instrument):\n",
        "    instrument.play()\n",
        "\n",
        "# Create objects of different classes\n",
        "guitar = Guitar()\n",
        "piano = Piano()\n",
        "\n",
        "# Call the same method using different objects\n",
        "perform_play(guitar)\n",
        "perform_play(piano)"
      ],
      "metadata": {
        "colab": {
          "base_uri": "https://localhost:8080/"
        },
        "id": "Ap3m-j52phC5",
        "outputId": "71a97306-72d2-4b14-d7a1-d24d536ee706"
      },
      "execution_count": 10,
      "outputs": [
        {
          "output_type": "stream",
          "name": "stdout",
          "text": [
            "Strumming the guitar.\n",
            "Playing the piano.\n"
          ]
        }
      ]
    },
    {
      "cell_type": "markdown",
      "source": [
        " 7.Create a class MathOperations with a class method add_numbers() to add two numbers and a static\n",
        "method subtract_numbers() to subtract two numbers"
      ],
      "metadata": {
        "id": "E5al3fQh14s9"
      }
    },
    {
      "cell_type": "code",
      "source": [
        "class MathOperations:\n",
        "\n",
        "    @classmethod\n",
        "    def add_numbers(cls, a, b):\n",
        "        return a + b\n",
        "\n",
        "    @staticmethod\n",
        "    def subtract_numbers(a, b):\n",
        "        return a - b\n",
        "\n",
        "\n",
        "# Example usage:\n",
        "print(\"Addition:\", MathOperations.add_numbers(10, 5))\n",
        "print(\"Subtraction:\", MathOperations.subtract_numbers(10, 5))"
      ],
      "metadata": {
        "colab": {
          "base_uri": "https://localhost:8080/"
        },
        "id": "edKi2D2Jpg_x",
        "outputId": "1f4be8f4-dd17-452a-fabf-d92c6b9adfe0"
      },
      "execution_count": 11,
      "outputs": [
        {
          "output_type": "stream",
          "name": "stdout",
          "text": [
            "Addition: 15\n",
            "Subtraction: 5\n"
          ]
        }
      ]
    },
    {
      "cell_type": "markdown",
      "source": [
        " 8 Implement a class Person with a class method to count the total number of persons created.\n",
        "\n"
      ],
      "metadata": {
        "id": "AxCLO8Go2ixb"
      }
    },
    {
      "cell_type": "code",
      "source": [
        "class Person:\n",
        "    count = 0  # Class variable to track number of persons\n",
        "\n",
        "    def __init__(self, name):\n",
        "        self.name = name\n",
        "        Person.count += 1  # Increment count whenever a new person is created\n",
        "\n",
        "    @classmethod\n",
        "    def total_persons(cls):\n",
        "        return cls.count\n",
        "\n",
        "\n",
        "# Example usage:\n",
        "p1 = Person(\"Alice\")\n",
        "p2 = Person(\"Bob\")\n",
        "p3 = Person(\"Charlie\")\n",
        "\n",
        "print(\"Total persons created:\", Person.total_persons())"
      ],
      "metadata": {
        "colab": {
          "base_uri": "https://localhost:8080/"
        },
        "id": "V21El_r7pg8p",
        "outputId": "ffb36aa8-c109-434e-d50e-ce226e249d80"
      },
      "execution_count": 12,
      "outputs": [
        {
          "output_type": "stream",
          "name": "stdout",
          "text": [
            "Total persons created: 3\n"
          ]
        }
      ]
    },
    {
      "cell_type": "code",
      "source": [
        "class Fraction:\n",
        "    def __init__(self, numerator, denominator):\n",
        "        self.numerator = numerator\n",
        "        self.denominator = denominator\n",
        "\n",
        "    def __str__(self):\n",
        "        return f\"{self.numerator}/{self.denominator}\"\n",
        "\n",
        "\n",
        "# Example usage:\n",
        "f1 = Fraction(3, 4)\n",
        "f2 = Fraction(7, 2)\n",
        "\n",
        "print(f1)\n",
        "print(f2)"
      ],
      "metadata": {
        "colab": {
          "base_uri": "https://localhost:8080/"
        },
        "id": "F71KBOx9pg5i",
        "outputId": "23592440-1c7b-4410-f4c0-7ab992f7db60"
      },
      "execution_count": 13,
      "outputs": [
        {
          "output_type": "stream",
          "name": "stdout",
          "text": [
            "3/4\n",
            "7/2\n"
          ]
        }
      ]
    },
    {
      "cell_type": "code",
      "source": [
        "class Vector:\n",
        "    def __init__(self, x, y):\n",
        "        self.x = x\n",
        "        self.y = y\n",
        "\n",
        "    def __add__(self, other):\n",
        "        # Overloading the + operator\n",
        "        return Vector(self.x + other.x, self.y + other.y)\n",
        "\n",
        "    def __str__(self):\n",
        "        return f\"Vector({self.x}, {self.y})\"\n",
        "\n",
        "# Example usage\n",
        "v1 = Vector(2, 3)\n",
        "v2 = Vector(4, 5)\n",
        "\n",
        "v3 = v1 + v2  # Calls v1.__add__(v2)\n",
        "\n",
        "print(\"v1:\", v1)\n",
        "print(\"v2:\", v2)\n",
        "print(\"v1 + v2 =\", v3)"
      ],
      "metadata": {
        "colab": {
          "base_uri": "https://localhost:8080/"
        },
        "id": "MW_5u4bLpg1n",
        "outputId": "88a7d0c8-e704-43f7-a6cd-0f375ff81169"
      },
      "execution_count": 14,
      "outputs": [
        {
          "output_type": "stream",
          "name": "stdout",
          "text": [
            "v1: Vector(2, 3)\n",
            "v2: Vector(4, 5)\n",
            "v1 + v2 = Vector(6, 8)\n"
          ]
        }
      ]
    },
    {
      "cell_type": "code",
      "source": [
        "class Person:\n",
        "    def __init__(self, name, age):\n",
        "        self.name = name\n",
        "        self.age = age\n",
        "\n",
        "    def greet(self):\n",
        "        print(f\"Hello, my name is {self.name} and I am {self.age} years old.\")\n",
        "\n",
        "# Example usage:\n",
        "person1 = Person(\"Vansh\",28)\n",
        "person1.greet()"
      ],
      "metadata": {
        "colab": {
          "base_uri": "https://localhost:8080/"
        },
        "id": "oTQ8YldSpgt1",
        "outputId": "53d137ca-85ed-4be3-b227-1665106ca8e1"
      },
      "execution_count": 17,
      "outputs": [
        {
          "output_type": "stream",
          "name": "stdout",
          "text": [
            "Hello, my name is Vansh and I am 28 years old.\n"
          ]
        }
      ]
    },
    {
      "cell_type": "markdown",
      "source": [
        "12.Implement a class Student with attributes name and grades. Create a method average_grade() to compute\n",
        "the average of the grades."
      ],
      "metadata": {
        "id": "3HvOOiDy325A"
      }
    },
    {
      "cell_type": "code",
      "source": [
        "class Student:\n",
        "    def __init__(self, name, grades):\n",
        "        self.name = name\n",
        "        self.grades = grades  # grades should be a list of numbers\n",
        "\n",
        "    def average_grade(self):\n",
        "        if not self.grades:\n",
        "            return 0  # Avoid division by zero\n",
        "        return sum(self.grades) / len(self.grades)\n",
        "\n",
        "# Example usage:\n",
        "student1 = Student(\"Alice\", [85, 90, 78, 92])\n",
        "print(f\"{student1.name}'s average grade is: {student1.average_grade()}\")"
      ],
      "metadata": {
        "colab": {
          "base_uri": "https://localhost:8080/"
        },
        "id": "i7xH7cQ8pgke",
        "outputId": "2b0588a3-4985-439a-873d-ea9771396fb3"
      },
      "execution_count": 18,
      "outputs": [
        {
          "output_type": "stream",
          "name": "stdout",
          "text": [
            "Alice's average grade is: 86.25\n"
          ]
        }
      ]
    },
    {
      "cell_type": "markdown",
      "source": [
        "13.Create a class Rectangle with methods set_dimensions() to set the dimensions and area() to calculate the\n",
        "area."
      ],
      "metadata": {
        "id": "It39oiaS4Fxz"
      }
    },
    {
      "cell_type": "code",
      "source": [
        "class Rectangle:\n",
        "    def __init__(self):\n",
        "        self.length = 0\n",
        "        self.width = 0\n",
        "\n",
        "    def set_dimensions(self, length, width):\n",
        "        self.length = length\n",
        "        self.width = width\n",
        "\n",
        "    def area(self):\n",
        "        return self.length * self.width\n",
        "\n",
        "# Example usage:\n",
        "rect = Rectangle()\n",
        "rect.set_dimensions(5, 3)\n",
        "print(\"Area of rectangle:\", rect.area())"
      ],
      "metadata": {
        "colab": {
          "base_uri": "https://localhost:8080/"
        },
        "id": "GupIgI2bq6Yr",
        "outputId": "2a9878ce-f813-4902-caa2-d4a1aa39e8b8"
      },
      "execution_count": 19,
      "outputs": [
        {
          "output_type": "stream",
          "name": "stdout",
          "text": [
            "Area of rectangle: 15\n"
          ]
        }
      ]
    },
    {
      "cell_type": "markdown",
      "source": [
        "14.Create a class Employee with a method calculate_salary() that computes the salary based on hours worked\n",
        "and hourly rate. Create a derived class Manager that adds a bonus to the salary."
      ],
      "metadata": {
        "id": "Y20OC-Nd4Qzl"
      }
    },
    {
      "cell_type": "code",
      "source": [
        "# Base class\n",
        "class Employee:\n",
        "    def __init__(self, name, hours_worked, hourly_rate):\n",
        "        self.name = name\n",
        "        self.hours_worked = hours_worked\n",
        "        self.hourly_rate = hourly_rate\n",
        "\n",
        "    def calculate_salary(self):\n",
        "        salary = self.hours_worked * self.hourly_rate\n",
        "        return salary\n",
        "\n",
        "# Derived class\n",
        "class Manager(Employee):\n",
        "    def __init__(self, name, hours_worked, hourly_rate, bonus):\n",
        "        super().__init__(name, hours_worked, hourly_rate)\n",
        "        self.bonus = bonus\n",
        "\n",
        "    def calculate_salary(self):\n",
        "        base_salary = super().calculate_salary()\n",
        "        total_salary = base_salary + self.bonus\n",
        "        return total_salary\n",
        "\n",
        "# Example usage\n",
        "emp = Employee(\"John\", 40, 20)\n",
        "print(f\"Employee Salary: ${emp.calculate_salary()}\")\n",
        "\n",
        "mgr = Manager(\"Alice\", 45, 30, 500)\n",
        "print(f\"Manager Salary: ${mgr.calculate_salary()}\")\n"
      ],
      "metadata": {
        "colab": {
          "base_uri": "https://localhost:8080/"
        },
        "id": "JPbpWCdBq7OX",
        "outputId": "565fad66-1089-46e3-fdb2-14a741108204"
      },
      "execution_count": 20,
      "outputs": [
        {
          "output_type": "stream",
          "name": "stdout",
          "text": [
            "Employee Salary: $800\n",
            "Manager Salary: $1850\n"
          ]
        }
      ]
    },
    {
      "cell_type": "markdown",
      "source": [
        "15.Create a class Product with attributes name, price, and quantity. Implement a method total_price() that\n",
        "calculates the total price of the product."
      ],
      "metadata": {
        "id": "oorV-_ZQ4jpC"
      }
    },
    {
      "cell_type": "code",
      "source": [
        "class Product:\n",
        "    def __init__(self, name, price, quantity):\n",
        "        self.name = name\n",
        "        self.price = price\n",
        "        self.quantity = quantity\n",
        "\n",
        "    def total_price(self):\n",
        "        return self.price * self.quantity\n",
        "\n",
        "# Example usage:\n",
        "product1 = Product(\"Laptop\", 50000, 2)\n",
        "print(f\"Total price for {product1.name}: ₹{product1.total_price()}\")"
      ],
      "metadata": {
        "colab": {
          "base_uri": "https://localhost:8080/"
        },
        "id": "wH2qWOI2q6V0",
        "outputId": "8c866d7f-8fa0-4d9c-81cd-62c9d0e56ef6"
      },
      "execution_count": 21,
      "outputs": [
        {
          "output_type": "stream",
          "name": "stdout",
          "text": [
            "Total price for Laptop: ₹100000\n"
          ]
        }
      ]
    },
    {
      "cell_type": "markdown",
      "source": [
        "16.Create a class Animal with an abstract method sound(). Create two derived classes Cow and Sheep that\n",
        "implement the sound() method."
      ],
      "metadata": {
        "id": "oY4kLYyI4z1f"
      }
    },
    {
      "cell_type": "code",
      "source": [
        "\n",
        "# Abstract base class\n",
        "class Animal(ABC):\n",
        "    @abstractmethod\n",
        "    def sound(self):\n",
        "        pass\n",
        "\n",
        "# Derived class Cow\n",
        "class Cow(Animal):\n",
        "    def sound(self):\n",
        "        return \"Moo\"\n",
        "\n",
        "# Derived class Sheep\n",
        "class Sheep(Animal):\n",
        "    def sound(self):\n",
        "        return \"Baa\"\n",
        "\n",
        "# Example usage\n",
        "cow = Cow()\n",
        "sheep = Sheep()\n",
        "\n",
        "print(f\"Cow says: {cow.sound()}\")\n",
        "print(f\"Sheep says: {sheep.sound()}\")\n"
      ],
      "metadata": {
        "colab": {
          "base_uri": "https://localhost:8080/"
        },
        "id": "LzxYRq0Wq6Sc",
        "outputId": "b3156978-84c1-436d-eb81-d38fef2a2946"
      },
      "execution_count": 23,
      "outputs": [
        {
          "output_type": "stream",
          "name": "stdout",
          "text": [
            "Cow says: Moo\n",
            "Sheep says: Baa\n"
          ]
        }
      ]
    },
    {
      "cell_type": "markdown",
      "source": [
        "17.Create a class Book with attributes title, author, and year_published. Add a method get_book_info() that\n",
        "returns a formatted string with the book's details."
      ],
      "metadata": {
        "id": "gBiFUlVi5DFB"
      }
    },
    {
      "cell_type": "code",
      "source": [
        "class Book:\n",
        "    def __init__(self, title, author, year_published):\n",
        "        self.title = title\n",
        "        self.author = author\n",
        "        self.year_published = year_published\n",
        "\n",
        "    def get_book_info(self):\n",
        "        return f\"'{self.title}' by {self.author}, published in {self.year_published}\"\n",
        "\n",
        "# Example usage:\n",
        "book1 = Book(\"To Kill a Mockingbird\", \"Harper Lee\", 1960)\n",
        "print(book1.get_book_info())"
      ],
      "metadata": {
        "colab": {
          "base_uri": "https://localhost:8080/"
        },
        "id": "S-AHI-wYq6OT",
        "outputId": "7f2817f0-3d05-40eb-fbeb-0eee0a78f143"
      },
      "execution_count": 24,
      "outputs": [
        {
          "output_type": "stream",
          "name": "stdout",
          "text": [
            "'To Kill a Mockingbird' by Harper Lee, published in 1960\n"
          ]
        }
      ]
    },
    {
      "cell_type": "markdown",
      "source": [
        "18.Create a class House with attributes address and price. Create a derived class Mansion that adds an\n",
        "attribute number_of_rooms."
      ],
      "metadata": {
        "id": "cbpKAvd35XAR"
      }
    },
    {
      "cell_type": "code",
      "source": [
        "# Base class\n",
        "class House:\n",
        "    def __init__(self, address, price):\n",
        "        self.address = address\n",
        "        self.price = price\n",
        "\n",
        "# Derived class\n",
        "class Mansion(House):\n",
        "    def __init__(self, address, price, number_of_rooms):\n",
        "        super().__init__(address, price)  # Call the constructor of House\n",
        "        self.number_of_rooms = number_of_rooms\n",
        "\n",
        "# Example usage:\n",
        "mansion1 = Mansion(\"123 Luxury Lane\", 50000000, 10)\n",
        "print(f\"Address: {mansion1.address}\")\n",
        "print(f\"Price: ₹{mansion1.price}\")\n",
        "print(f\"Number of rooms: {mansion1.number_of_rooms}\")\n"
      ],
      "metadata": {
        "colab": {
          "base_uri": "https://localhost:8080/"
        },
        "id": "sP3v7sRerLaS",
        "outputId": "41bc85f5-2c18-4179-8a15-f56199f09560"
      },
      "execution_count": 25,
      "outputs": [
        {
          "output_type": "stream",
          "name": "stdout",
          "text": [
            "Address: 123 Luxury Lane\n",
            "Price: ₹50000000\n",
            "Number of rooms: 10\n"
          ]
        }
      ]
    }
  ]
}